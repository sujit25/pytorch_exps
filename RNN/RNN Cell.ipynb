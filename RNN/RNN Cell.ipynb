{
 "cells": [
  {
   "cell_type": "code",
   "execution_count": 1,
   "metadata": {},
   "outputs": [],
   "source": [
    "import matplotlib.pyplot as plt\n",
    "import numpy as np\n",
    "import seaborn as sns\n",
    "import string\n",
    "from sklearn.model_selection import train_test_split"
   ]
  },
  {
   "cell_type": "code",
   "execution_count": 2,
   "metadata": {},
   "outputs": [],
   "source": [
    "import torch\n",
    "import torch.nn as nn\n",
    "import torch.optim as optim"
   ]
  },
  {
   "cell_type": "markdown",
   "metadata": {},
   "source": [
    "## Dataset"
   ]
  },
  {
   "cell_type": "code",
   "execution_count": 3,
   "metadata": {},
   "outputs": [],
   "source": [
    "languages = []\n",
    "names = []\n",
    "name_lang_pairs = []\n",
    "X = []\n",
    "y = []\n",
    "with open(\"name2lang.txt\") as f:\n",
    "    for line in f:\n",
    "        name, language = line.split(\",\")\n",
    "        name = name.strip()\n",
    "        language = language.strip()\n",
    "        names.append(name)        \n",
    "        if language not in languages:\n",
    "            languages.append(language)\n",
    "        X.append(name)\n",
    "        y.append(language)\n",
    "        # append name, language pairs\n",
    "        name_lang_pairs.append((name,language))"
   ]
  },
  {
   "cell_type": "code",
   "execution_count": 4,
   "metadata": {},
   "outputs": [
    {
     "name": "stdout",
     "output_type": "stream",
     "text": [
      "18\n",
      "20050\n"
     ]
    }
   ],
   "source": [
    "print(len(languages))\n",
    "print(len(names))"
   ]
  },
  {
   "cell_type": "code",
   "execution_count": 5,
   "metadata": {},
   "outputs": [
    {
     "data": {
      "text/plain": [
       "['Portuguese',\n",
       " 'Irish',\n",
       " 'Spanish',\n",
       " 'Vietnamese',\n",
       " 'Chinese',\n",
       " 'Greek',\n",
       " 'Czech',\n",
       " 'Dutch',\n",
       " 'Japanese',\n",
       " 'French',\n",
       " 'German',\n",
       " 'Scottish',\n",
       " 'English',\n",
       " 'Russian',\n",
       " 'Polish',\n",
       " 'Arabic',\n",
       " 'Korean',\n",
       " 'Italian']"
      ]
     },
     "execution_count": 5,
     "metadata": {},
     "output_type": "execute_result"
    }
   ],
   "source": [
    "languages"
   ]
  },
  {
   "cell_type": "code",
   "execution_count": 6,
   "metadata": {},
   "outputs": [],
   "source": [
    "n_languages = len(languages)"
   ]
  },
  {
   "cell_type": "code",
   "execution_count": 7,
   "metadata": {},
   "outputs": [
    {
     "data": {
      "text/plain": [
       "[('Abreu', 'Portuguese'),\n",
       " ('Albuquerque', 'Portuguese'),\n",
       " ('Almeida', 'Portuguese'),\n",
       " ('Alves', 'Portuguese'),\n",
       " ('Araujo', 'Portuguese'),\n",
       " ('Araullo', 'Portuguese'),\n",
       " ('Barros', 'Portuguese'),\n",
       " ('Basurto', 'Portuguese'),\n",
       " ('Belo', 'Portuguese'),\n",
       " ('Cabral', 'Portuguese')]"
      ]
     },
     "execution_count": 7,
     "metadata": {},
     "output_type": "execute_result"
    }
   ],
   "source": [
    "name_lang_pairs[:10]"
   ]
  },
  {
   "cell_type": "markdown",
   "metadata": {},
   "source": [
    "# split dataset into train and test "
   ]
  },
  {
   "cell_type": "code",
   "execution_count": 8,
   "metadata": {},
   "outputs": [],
   "source": [
    "train_x, test_x, train_y, test_y = train_test_split(X, y, test_size=0.3, stratify=y)"
   ]
  },
  {
   "cell_type": "code",
   "execution_count": 9,
   "metadata": {},
   "outputs": [
    {
     "name": "stdout",
     "output_type": "stream",
     "text": [
      "14035\n",
      "6015\n",
      "14035\n",
      "6015\n"
     ]
    }
   ],
   "source": [
    "print(len(train_x))\n",
    "print(len(test_x))\n",
    "print(len(train_y))\n",
    "print(len(test_y))"
   ]
  },
  {
   "cell_type": "markdown",
   "metadata": {},
   "source": [
    "## encoding names and languages"
   ]
  },
  {
   "cell_type": "code",
   "execution_count": 10,
   "metadata": {},
   "outputs": [],
   "source": [
    "all_letters = string.ascii_letters + \" .,;'\"\n",
    "n_letters = len(all_letters)"
   ]
  },
  {
   "cell_type": "code",
   "execution_count": 11,
   "metadata": {},
   "outputs": [
    {
     "name": "stdout",
     "output_type": "stream",
     "text": [
      "num letters 57\n",
      "num languages 18\n"
     ]
    }
   ],
   "source": [
    "print(\"num letters\", n_letters)\n",
    "print(\"num languages\", n_languages)"
   ]
  },
  {
   "cell_type": "code",
   "execution_count": 12,
   "metadata": {},
   "outputs": [
    {
     "data": {
      "text/plain": [
       "4"
      ]
     },
     "execution_count": 12,
     "metadata": {},
     "output_type": "execute_result"
    }
   ],
   "source": [
    "languages.index('Chinese')"
   ]
  },
  {
   "cell_type": "code",
   "execution_count": 13,
   "metadata": {},
   "outputs": [],
   "source": [
    "def name_representation(name):\n",
    "    # tensor - num_letters_in_words, 1, one_hot_representation_of_each_character\n",
    "    name_tensor = torch.zeros(len(name), 1, n_letters)\n",
    "    for char_index, char_ in enumerate(name):\n",
    "        name_tensor[char_index][0][all_letters.index(char_)] = 1\n",
    "    return name_tensor"
   ]
  },
  {
   "cell_type": "code",
   "execution_count": 14,
   "metadata": {},
   "outputs": [],
   "source": [
    "def language_representation(lang):\n",
    "    return torch.tensor([languages.index(lang)],dtype=torch.long)                            "
   ]
  },
  {
   "cell_type": "code",
   "execution_count": 15,
   "metadata": {},
   "outputs": [
    {
     "data": {
      "text/plain": [
       "tensor([4])"
      ]
     },
     "execution_count": 15,
     "metadata": {},
     "output_type": "execute_result"
    }
   ],
   "source": [
    "language_representation('Chinese')"
   ]
  },
  {
   "cell_type": "code",
   "execution_count": 16,
   "metadata": {},
   "outputs": [
    {
     "data": {
      "text/plain": [
       "tensor([[[0., 0., 0., 0., 0., 0., 0., 0., 0., 0., 0., 0., 0., 0., 0., 0., 0.,\n",
       "          0., 0., 0., 0., 0., 0., 0., 0., 0., 1., 0., 0., 0., 0., 0., 0., 0.,\n",
       "          0., 0., 0., 0., 0., 0., 0., 0., 0., 0., 0., 0., 0., 0., 0., 0., 0.,\n",
       "          0., 0., 0., 0., 0., 0.]],\n",
       "\n",
       "        [[0., 0., 0., 0., 0., 0., 0., 0., 0., 0., 0., 1., 0., 0., 0., 0., 0.,\n",
       "          0., 0., 0., 0., 0., 0., 0., 0., 0., 0., 0., 0., 0., 0., 0., 0., 0.,\n",
       "          0., 0., 0., 0., 0., 0., 0., 0., 0., 0., 0., 0., 0., 0., 0., 0., 0.,\n",
       "          0., 0., 0., 0., 0., 0.]],\n",
       "\n",
       "        [[0., 0., 0., 0., 0., 0., 0., 0., 0., 0., 0., 0., 0., 0., 0., 0., 0.,\n",
       "          0., 0., 0., 0., 1., 0., 0., 0., 0., 0., 0., 0., 0., 0., 0., 0., 0.,\n",
       "          0., 0., 0., 0., 0., 0., 0., 0., 0., 0., 0., 0., 0., 0., 0., 0., 0.,\n",
       "          0., 0., 0., 0., 0., 0.]],\n",
       "\n",
       "        [[0., 0., 0., 0., 1., 0., 0., 0., 0., 0., 0., 0., 0., 0., 0., 0., 0.,\n",
       "          0., 0., 0., 0., 0., 0., 0., 0., 0., 0., 0., 0., 0., 0., 0., 0., 0.,\n",
       "          0., 0., 0., 0., 0., 0., 0., 0., 0., 0., 0., 0., 0., 0., 0., 0., 0.,\n",
       "          0., 0., 0., 0., 0., 0.]],\n",
       "\n",
       "        [[0., 0., 0., 0., 0., 0., 0., 0., 0., 0., 0., 0., 0., 0., 0., 0., 0.,\n",
       "          0., 1., 0., 0., 0., 0., 0., 0., 0., 0., 0., 0., 0., 0., 0., 0., 0.,\n",
       "          0., 0., 0., 0., 0., 0., 0., 0., 0., 0., 0., 0., 0., 0., 0., 0., 0.,\n",
       "          0., 0., 0., 0., 0., 0.]]])"
      ]
     },
     "execution_count": 16,
     "metadata": {},
     "output_type": "execute_result"
    }
   ],
   "source": [
    "name_representation('Alves')"
   ]
  },
  {
   "cell_type": "markdown",
   "metadata": {},
   "source": [
    "## RNN model"
   ]
  },
  {
   "cell_type": "code",
   "execution_count": 17,
   "metadata": {},
   "outputs": [],
   "source": [
    "n_hidden = 128"
   ]
  },
  {
   "cell_type": "code",
   "execution_count": 18,
   "metadata": {},
   "outputs": [],
   "source": [
    "class RNN_cell(nn.Module):\n",
    "    \n",
    "    def __init__(self, n_letters, n_hidden, n_output):\n",
    "        super(RNN_cell, self).__init__()\n",
    "        \n",
    "        self.n_hidden = n_hidden\n",
    "        # here we are combining X + S_prev  (by merging them horizontally)\n",
    "        input_hidden_combined_len = n_letters + n_hidden\n",
    "        # here X and S_prev are combined by horizontally merging\n",
    "        # X- (1, n_letters), S_prev - (1, n_hidden), X_S_prev_combined - (1, n_letters + n_hidden)\n",
    "        # U - (n_letters, n_hidden), W-(n_hidden, n_hidden) -> U_W_combined - (n_letters + n_hidden, n_hidden)\n",
    "        # here U,W are combined by vertically stacking them \n",
    "        # we get an array of shape\n",
    "        self.i2h = nn.Linear(input_hidden_combined_len, n_hidden)\n",
    "        self.sigmoid = nn.Sigmoid()\n",
    "        self.h2o = nn.Linear(n_hidden, n_output)\n",
    "        self.softmax = nn.LogSoftmax(dim=1)\n",
    "\n",
    "                \n",
    "    def forward(self,current_input_, prev_hidden_state):\n",
    "        # concat current_input_ and prev_hidden_state horizontally\n",
    "        # 1 here represents axis=1 i.e concat them horizontally\n",
    "        \n",
    "        # input_prev_hidden_combined - (1, n_letters+ n_hidden)\n",
    "        input_prev_hidden_combined = torch.cat((current_input_, prev_hidden_state), 1)\n",
    "        \n",
    "        # curr_hidden_state - (1, n_hidden)\n",
    "        curr_hidden_state = self.sigmoid(self.i2h(input_prev_hidden_combined))\n",
    "        \n",
    "        # pass currently hidden state to compute output\n",
    "        output = self.h2o(curr_hidden_state)        \n",
    "        output = self.softmax(output)\n",
    "        return curr_hidden_state, output        \n",
    "    \n",
    "    def init_hidden(self):\n",
    "        '''\n",
    "        initialize hidden state by zeros \n",
    "        '''\n",
    "        return torch.zeros(1, self.n_hidden)"
   ]
  },
  {
   "cell_type": "code",
   "execution_count": 19,
   "metadata": {},
   "outputs": [],
   "source": [
    "rnn_cell = RNN_cell(n_letters, n_hidden, n_languages)"
   ]
  },
  {
   "cell_type": "code",
   "execution_count": 20,
   "metadata": {},
   "outputs": [],
   "source": [
    "def infer(rnn_cell, name):\n",
    "    \n",
    "    name_repr = name_representation(name)\n",
    "    hidden_state= rnn_cell.init_hidden()\n",
    "    \n",
    "    for state_no in range(name_repr.shape[0]):\n",
    "        hidden_state, output = rnn_cell(name_repr[state_no], hidden_state)\n",
    "    return output"
   ]
  },
  {
   "cell_type": "code",
   "execution_count": 21,
   "metadata": {},
   "outputs": [],
   "source": [
    "output= infer(rnn_cell, \"Adam\")"
   ]
  },
  {
   "cell_type": "code",
   "execution_count": 22,
   "metadata": {},
   "outputs": [
    {
     "name": "stdout",
     "output_type": "stream",
     "text": [
      "tensor([[-3.0817, -2.5567, -3.0686, -3.0098, -3.1816, -2.7025, -3.0048, -2.9852,\n",
      "         -2.8708, -2.7877, -2.8847, -2.3684, -3.0411, -2.7824, -3.0348, -3.0743,\n",
      "         -2.9152, -3.0739]], grad_fn=<LogSoftmaxBackward>)\n"
     ]
    }
   ],
   "source": [
    "print(output)"
   ]
  },
  {
   "cell_type": "markdown",
   "metadata": {},
   "source": [
    "## training RNN cell on dataset"
   ]
  },
  {
   "cell_type": "code",
   "execution_count": 23,
   "metadata": {},
   "outputs": [],
   "source": [
    "criterion = nn.NLLLoss()\n",
    "opt = optim.SGD(rnn_cell.parameters(), lr=0.01, momentum=0.9)"
   ]
  },
  {
   "cell_type": "code",
   "execution_count": 24,
   "metadata": {},
   "outputs": [],
   "source": [
    "def data_loader(num_points, X,y):\n",
    "    res = []\n",
    "    for data_point in range(num_points):\n",
    "        random_pt_index = np.random.randint(len(X))\n",
    "        name = X[random_pt_index]\n",
    "        lang = y[random_pt_index]\n",
    "        res.append((name, lang, name_representation(name), language_representation(lang)))\n",
    "    return res"
   ]
  },
  {
   "cell_type": "code",
   "execution_count": 25,
   "metadata": {},
   "outputs": [
    {
     "data": {
      "text/plain": [
       "3697"
      ]
     },
     "execution_count": 25,
     "metadata": {},
     "output_type": "execute_result"
    }
   ],
   "source": [
    "np.random.randint(len(train_x))"
   ]
  },
  {
   "cell_type": "code",
   "execution_count": 26,
   "metadata": {},
   "outputs": [
    {
     "data": {
      "text/plain": [
       "14035"
      ]
     },
     "execution_count": 26,
     "metadata": {},
     "output_type": "execute_result"
    }
   ],
   "source": [
    "len(train_x)"
   ]
  },
  {
   "cell_type": "code",
   "execution_count": 27,
   "metadata": {},
   "outputs": [],
   "source": [
    "data_points = data_loader(2, train_x, train_y)"
   ]
  },
  {
   "cell_type": "code",
   "execution_count": 28,
   "metadata": {},
   "outputs": [
    {
     "name": "stdout",
     "output_type": "stream",
     "text": [
      "('Tchekhovich', 'Russian', tensor([[[0., 0., 0., 0., 0., 0., 0., 0., 0., 0., 0., 0., 0., 0., 0., 0., 0.,\n",
      "          0., 0., 0., 0., 0., 0., 0., 0., 0., 0., 0., 0., 0., 0., 0., 0., 0.,\n",
      "          0., 0., 0., 0., 0., 0., 0., 0., 0., 0., 0., 1., 0., 0., 0., 0., 0.,\n",
      "          0., 0., 0., 0., 0., 0.]],\n",
      "\n",
      "        [[0., 0., 1., 0., 0., 0., 0., 0., 0., 0., 0., 0., 0., 0., 0., 0., 0.,\n",
      "          0., 0., 0., 0., 0., 0., 0., 0., 0., 0., 0., 0., 0., 0., 0., 0., 0.,\n",
      "          0., 0., 0., 0., 0., 0., 0., 0., 0., 0., 0., 0., 0., 0., 0., 0., 0.,\n",
      "          0., 0., 0., 0., 0., 0.]],\n",
      "\n",
      "        [[0., 0., 0., 0., 0., 0., 0., 1., 0., 0., 0., 0., 0., 0., 0., 0., 0.,\n",
      "          0., 0., 0., 0., 0., 0., 0., 0., 0., 0., 0., 0., 0., 0., 0., 0., 0.,\n",
      "          0., 0., 0., 0., 0., 0., 0., 0., 0., 0., 0., 0., 0., 0., 0., 0., 0.,\n",
      "          0., 0., 0., 0., 0., 0.]],\n",
      "\n",
      "        [[0., 0., 0., 0., 1., 0., 0., 0., 0., 0., 0., 0., 0., 0., 0., 0., 0.,\n",
      "          0., 0., 0., 0., 0., 0., 0., 0., 0., 0., 0., 0., 0., 0., 0., 0., 0.,\n",
      "          0., 0., 0., 0., 0., 0., 0., 0., 0., 0., 0., 0., 0., 0., 0., 0., 0.,\n",
      "          0., 0., 0., 0., 0., 0.]],\n",
      "\n",
      "        [[0., 0., 0., 0., 0., 0., 0., 0., 0., 0., 1., 0., 0., 0., 0., 0., 0.,\n",
      "          0., 0., 0., 0., 0., 0., 0., 0., 0., 0., 0., 0., 0., 0., 0., 0., 0.,\n",
      "          0., 0., 0., 0., 0., 0., 0., 0., 0., 0., 0., 0., 0., 0., 0., 0., 0.,\n",
      "          0., 0., 0., 0., 0., 0.]],\n",
      "\n",
      "        [[0., 0., 0., 0., 0., 0., 0., 1., 0., 0., 0., 0., 0., 0., 0., 0., 0.,\n",
      "          0., 0., 0., 0., 0., 0., 0., 0., 0., 0., 0., 0., 0., 0., 0., 0., 0.,\n",
      "          0., 0., 0., 0., 0., 0., 0., 0., 0., 0., 0., 0., 0., 0., 0., 0., 0.,\n",
      "          0., 0., 0., 0., 0., 0.]],\n",
      "\n",
      "        [[0., 0., 0., 0., 0., 0., 0., 0., 0., 0., 0., 0., 0., 0., 1., 0., 0.,\n",
      "          0., 0., 0., 0., 0., 0., 0., 0., 0., 0., 0., 0., 0., 0., 0., 0., 0.,\n",
      "          0., 0., 0., 0., 0., 0., 0., 0., 0., 0., 0., 0., 0., 0., 0., 0., 0.,\n",
      "          0., 0., 0., 0., 0., 0.]],\n",
      "\n",
      "        [[0., 0., 0., 0., 0., 0., 0., 0., 0., 0., 0., 0., 0., 0., 0., 0., 0.,\n",
      "          0., 0., 0., 0., 1., 0., 0., 0., 0., 0., 0., 0., 0., 0., 0., 0., 0.,\n",
      "          0., 0., 0., 0., 0., 0., 0., 0., 0., 0., 0., 0., 0., 0., 0., 0., 0.,\n",
      "          0., 0., 0., 0., 0., 0.]],\n",
      "\n",
      "        [[0., 0., 0., 0., 0., 0., 0., 0., 1., 0., 0., 0., 0., 0., 0., 0., 0.,\n",
      "          0., 0., 0., 0., 0., 0., 0., 0., 0., 0., 0., 0., 0., 0., 0., 0., 0.,\n",
      "          0., 0., 0., 0., 0., 0., 0., 0., 0., 0., 0., 0., 0., 0., 0., 0., 0.,\n",
      "          0., 0., 0., 0., 0., 0.]],\n",
      "\n",
      "        [[0., 0., 1., 0., 0., 0., 0., 0., 0., 0., 0., 0., 0., 0., 0., 0., 0.,\n",
      "          0., 0., 0., 0., 0., 0., 0., 0., 0., 0., 0., 0., 0., 0., 0., 0., 0.,\n",
      "          0., 0., 0., 0., 0., 0., 0., 0., 0., 0., 0., 0., 0., 0., 0., 0., 0.,\n",
      "          0., 0., 0., 0., 0., 0.]],\n",
      "\n",
      "        [[0., 0., 0., 0., 0., 0., 0., 1., 0., 0., 0., 0., 0., 0., 0., 0., 0.,\n",
      "          0., 0., 0., 0., 0., 0., 0., 0., 0., 0., 0., 0., 0., 0., 0., 0., 0.,\n",
      "          0., 0., 0., 0., 0., 0., 0., 0., 0., 0., 0., 0., 0., 0., 0., 0., 0.,\n",
      "          0., 0., 0., 0., 0., 0.]]]), tensor([13]))\n"
     ]
    }
   ],
   "source": [
    "print(data_points[0])"
   ]
  },
  {
   "cell_type": "code",
   "execution_count": 29,
   "metadata": {},
   "outputs": [],
   "source": [
    "def train(rnn_cell, criterion, opt, num_points):\n",
    "    '''\n",
    "    train model on batch of num_points\n",
    "    '''\n",
    "    # clear out gradients\n",
    "    opt.zero_grad()\n",
    "    \n",
    "    total_loss = 0\n",
    "    \n",
    "    # get random set of data points\n",
    "    data_points = data_loader(num_points, train_x, train_y)\n",
    "        \n",
    "    for name,lang, name_repr, lang_repr in data_points:\n",
    "    \n",
    "        # initialize hidden state to 0's for first timestep before training\n",
    "        hidden_state= rnn_cell.init_hidden() \n",
    "        \n",
    "        # pass through rnn cell each timestep\n",
    "        for char_index in range(name_repr.shape[0]):\n",
    "            hidden_state, output = rnn_cell(name_repr[char_index], hidden_state)\n",
    "            \n",
    "        # compute current loss\n",
    "        loss = criterion(output, lang_repr)\n",
    "        \n",
    "        # compute gradients\n",
    "        loss.backward(retain_graph=True)\n",
    "        \n",
    "        # add current loss to total loss\n",
    "        total_loss += loss.item()\n",
    "        \n",
    "    # update weights after finishing batch of num points\n",
    "    opt.step()\n",
    "        \n",
    "    return total_loss/num_points"
   ]
  },
  {
   "cell_type": "code",
   "execution_count": 36,
   "metadata": {},
   "outputs": [],
   "source": [
    "def train_setup(rnn_cell, lr_rate, momentum, num_epochs, batch_size,print_every =10):\n",
    "    criterion = nn.NLLLoss()\n",
    "    opt = optim.SGD(rnn_cell.parameters(), lr=lr_rate, momentum=momentum)\n",
    "    \n",
    "    loss_arr = []\n",
    "    for epoch_index in range(num_epochs):\n",
    "        epoch_loss = train(rnn_cell, criterion, opt, batch_size)\n",
    "        loss_arr.append(epoch_loss)   \n",
    "        if epoch_index%print_every== 0:\n",
    "            print(\"epoch index: {}, epoch loss: {}\".format(epoch_index, epoch_loss))        \n",
    "    return loss_arr"
   ]
  },
  {
   "cell_type": "code",
   "execution_count": 42,
   "metadata": {},
   "outputs": [],
   "source": [
    "0.00001rnn_cell_2 = RNN_cell(n_letters, n_hidden, n_languages)"
   ]
  },
  {
   "cell_type": "code",
   "execution_count": 43,
   "metadata": {},
   "outputs": [
    {
     "name": "stdout",
     "output_type": "stream",
     "text": [
      "epoch index: 0, epoch loss: 2.958841511979699\n",
      "epoch index: 10, epoch loss: 2.5673223957419395\n",
      "epoch index: 20, epoch loss: 1.8216985873878002\n",
      "epoch index: 30, epoch loss: 1.8163275476545095\n",
      "epoch index: 40, epoch loss: 1.6336859967559576\n",
      "epoch index: 50, epoch loss: 1.615885678678751\n",
      "epoch index: 60, epoch loss: 1.5620068996213377\n",
      "epoch index: 70, epoch loss: 1.4250270030461252\n",
      "epoch index: 80, epoch loss: 1.2336467984132469\n",
      "epoch index: 90, epoch loss: 1.2612458704970777\n",
      "epoch index: 100, epoch loss: 1.3715875800698996\n",
      "epoch index: 110, epoch loss: 1.2928294953890145\n",
      "epoch index: 120, epoch loss: 1.2956875301897526\n",
      "epoch index: 130, epoch loss: 1.1240355600602925\n",
      "epoch index: 140, epoch loss: 1.0797737976536155\n",
      "epoch index: 150, epoch loss: 1.347147949039936\n",
      "epoch index: 160, epoch loss: 1.1629208186641335\n",
      "epoch index: 170, epoch loss: 1.1595593821257353\n",
      "epoch index: 180, epoch loss: 1.1081870761699975\n",
      "epoch index: 190, epoch loss: 1.1772753070108593\n",
      "epoch index: 200, epoch loss: 1.1125449589453638\n",
      "epoch index: 210, epoch loss: 1.3986735055223107\n",
      "epoch index: 220, epoch loss: 1.2375609260052443\n",
      "epoch index: 230, epoch loss: 1.4043424115516245\n",
      "epoch index: 240, epoch loss: 1.0636659478768706\n",
      "epoch index: 250, epoch loss: 1.0945894243195653\n",
      "epoch index: 260, epoch loss: 1.034384994301945\n",
      "epoch index: 270, epoch loss: 1.0580577910877764\n",
      "epoch index: 280, epoch loss: 0.9385196007788181\n",
      "epoch index: 290, epoch loss: 1.0275332164019346\n",
      "epoch index: 300, epoch loss: 1.1260024858638644\n",
      "epoch index: 310, epoch loss: 1.0483445241115987\n",
      "epoch index: 320, epoch loss: 0.9719579024240375\n",
      "epoch index: 330, epoch loss: 1.1118520889431238\n",
      "epoch index: 340, epoch loss: 0.9968899739906192\n",
      "epoch index: 350, epoch loss: 0.9892924069426954\n",
      "epoch index: 360, epoch loss: 0.9155181907117367\n",
      "epoch index: 370, epoch loss: 0.9626125581562519\n",
      "epoch index: 380, epoch loss: 0.9809294543229043\n",
      "epoch index: 390, epoch loss: 1.0307384189218283\n",
      "epoch index: 400, epoch loss: 0.9476511115208268\n",
      "epoch index: 410, epoch loss: 1.0101481480523944\n",
      "epoch index: 420, epoch loss: 1.0202131201513112\n",
      "epoch index: 430, epoch loss: 0.8732230793684721\n",
      "epoch index: 440, epoch loss: 0.9880867293104529\n",
      "epoch index: 450, epoch loss: 0.8883772511035204\n",
      "epoch index: 460, epoch loss: 0.9502312419936061\n",
      "epoch index: 470, epoch loss: 1.116113355383277\n",
      "epoch index: 480, epoch loss: 0.9535423070192337\n",
      "epoch index: 490, epoch loss: 0.9119160706177354\n"
     ]
    }
   ],
   "source": [
    "loss_arr = train_setup(rnn_cell_2, lr_rate=0.005, momentum=0.9, num_epochs=500, batch_size=256)"
   ]
  },
  {
   "cell_type": "code",
   "execution_count": 44,
   "metadata": {},
   "outputs": [
    {
     "data": {
      "image/png": "[encoded data removed]",
      "text/plain": [
       "<Figure size 432x288 with 1 Axes>"
      ]
     },
     "metadata": {
      "needs_background": "light"
     },
     "output_type": "display_data"
    }
   ],
   "source": [
    "plt.plot(range(len(loss_arr)), loss_arr)\n",
    "plt.xlabel('epochs')\n",
    "plt.ylabel('loss')\n",
    "plt.title('loss hist')\n",
    "plt.show()"
   ]
  }
 ],
 "metadata": {
  "kernelspec": {
   "display_name": "Python 3",
   "language": "python",
   "name": "python3"
  },
  "language_info": {
   "codemirror_mode": {
    "name": "ipython",
    "version": 3
   },
   "file_extension": ".py",
   "mimetype": "text/x-python",
   "name": "python",
   "nbconvert_exporter": "python",
   "pygments_lexer": "ipython3",
   "version": "3.5.6"
  }
 },
 "nbformat": 4,
 "nbformat_minor": 2
}
