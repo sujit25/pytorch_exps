{
 "cells": [
  {
   "cell_type": "code",
   "execution_count": 1,
   "metadata": {},
   "outputs": [],
   "source": [
    "import matplotlib.pyplot as plt\n",
    "import numpy as np\n",
    "import seaborn as sns\n",
    "import string\n",
    "from sklearn.model_selection import train_test_split"
   ]
  },
  {
   "cell_type": "code",
   "execution_count": 2,
   "metadata": {},
   "outputs": [],
   "source": [
    "import torch\n",
    "import torch.nn as nn\n",
    "import torch.optim as optim"
   ]
  },
  {
   "cell_type": "markdown",
   "metadata": {},
   "source": [
    "## Dataset"
   ]
  },
  {
   "cell_type": "code",
   "execution_count": 3,
   "metadata": {},
   "outputs": [],
   "source": [
    "languages = []\n",
    "names = []\n",
    "name_lang_pairs = []\n",
    "X = []\n",
    "y = []\n",
    "with open(\"name2lang.txt\") as f:\n",
    "    for line in f:\n",
    "        name, language = line.split(\",\")\n",
    "        name = name.strip()\n",
    "        language = language.strip()\n",
    "        names.append(name)        \n",
    "        if language not in languages:\n",
    "            languages.append(language)\n",
    "        X.append(name)\n",
    "        y.append(language)\n",
    "        # append name, language pairs\n",
    "        name_lang_pairs.append((name,language))"
   ]
  },
  {
   "cell_type": "code",
   "execution_count": 4,
   "metadata": {},
   "outputs": [
    {
     "name": "stdout",
     "output_type": "stream",
     "text": [
      "18\n",
      "20050\n"
     ]
    }
   ],
   "source": [
    "print(len(languages))\n",
    "print(len(names))"
   ]
  },
  {
   "cell_type": "code",
   "execution_count": 5,
   "metadata": {},
   "outputs": [
    {
     "data": {
      "text/plain": [
       "['Portuguese',\n",
       " 'Irish',\n",
       " 'Spanish',\n",
       " 'Vietnamese',\n",
       " 'Chinese',\n",
       " 'Greek',\n",
       " 'Czech',\n",
       " 'Dutch',\n",
       " 'Japanese',\n",
       " 'French',\n",
       " 'German',\n",
       " 'Scottish',\n",
       " 'English',\n",
       " 'Russian',\n",
       " 'Polish',\n",
       " 'Arabic',\n",
       " 'Korean',\n",
       " 'Italian']"
      ]
     },
     "execution_count": 5,
     "metadata": {},
     "output_type": "execute_result"
    }
   ],
   "source": [
    "languages"
   ]
  },
  {
   "cell_type": "code",
   "execution_count": 6,
   "metadata": {},
   "outputs": [],
   "source": [
    "n_languages = len(languages)"
   ]
  },
  {
   "cell_type": "code",
   "execution_count": 7,
   "metadata": {},
   "outputs": [
    {
     "data": {
      "text/plain": [
       "[('Abreu', 'Portuguese'),\n",
       " ('Albuquerque', 'Portuguese'),\n",
       " ('Almeida', 'Portuguese'),\n",
       " ('Alves', 'Portuguese'),\n",
       " ('Araujo', 'Portuguese'),\n",
       " ('Araullo', 'Portuguese'),\n",
       " ('Barros', 'Portuguese'),\n",
       " ('Basurto', 'Portuguese'),\n",
       " ('Belo', 'Portuguese'),\n",
       " ('Cabral', 'Portuguese')]"
      ]
     },
     "execution_count": 7,
     "metadata": {},
     "output_type": "execute_result"
    }
   ],
   "source": [
    "name_lang_pairs[:10]"
   ]
  },
  {
   "cell_type": "markdown",
   "metadata": {},
   "source": [
    "# split dataset into train and test "
   ]
  },
  {
   "cell_type": "code",
   "execution_count": 8,
   "metadata": {},
   "outputs": [],
   "source": [
    "train_x, test_x, train_y, test_y = train_test_split(X, y, test_size=0.3, stratify=y)"
   ]
  },
  {
   "cell_type": "code",
   "execution_count": 9,
   "metadata": {},
   "outputs": [
    {
     "name": "stdout",
     "output_type": "stream",
     "text": [
      "14035\n",
      "6015\n",
      "14035\n",
      "6015\n"
     ]
    }
   ],
   "source": [
    "print(len(train_x))\n",
    "print(len(test_x))\n",
    "print(len(train_y))\n",
    "print(len(test_y))"
   ]
  },
  {
   "cell_type": "markdown",
   "metadata": {},
   "source": [
    "## encoding names and languages"
   ]
  },
  {
   "cell_type": "code",
   "execution_count": 10,
   "metadata": {},
   "outputs": [],
   "source": [
    "all_letters = string.ascii_letters + \" .,;'\"\n",
    "n_letters = len(all_letters)"
   ]
  },
  {
   "cell_type": "code",
   "execution_count": 11,
   "metadata": {},
   "outputs": [
    {
     "name": "stdout",
     "output_type": "stream",
     "text": [
      "num letters 57\n",
      "num languages 18\n"
     ]
    }
   ],
   "source": [
    "print(\"num letters\", n_letters)\n",
    "print(\"num languages\", n_languages)"
   ]
  },
  {
   "cell_type": "code",
   "execution_count": 12,
   "metadata": {},
   "outputs": [
    {
     "data": {
      "text/plain": [
       "4"
      ]
     },
     "execution_count": 12,
     "metadata": {},
     "output_type": "execute_result"
    }
   ],
   "source": [
    "languages.index('Chinese')"
   ]
  },
  {
   "cell_type": "code",
   "execution_count": 13,
   "metadata": {},
   "outputs": [],
   "source": [
    "def name_representation(name):\n",
    "    # tensor - num_letters_in_words, 1, one_hot_representation_of_each_character\n",
    "    name_tensor = torch.zeros(len(name), 1, n_letters)\n",
    "    for char_index, char_ in enumerate(name):\n",
    "        name_tensor[char_index][0][all_letters.index(char_)] = 1\n",
    "    return name_tensor"
   ]
  },
  {
   "cell_type": "code",
   "execution_count": 14,
   "metadata": {},
   "outputs": [],
   "source": [
    "def language_representation(lang):\n",
    "    return torch.tensor([languages.index(lang)],dtype=torch.long)                            "
   ]
  },
  {
   "cell_type": "code",
   "execution_count": 15,
   "metadata": {},
   "outputs": [
    {
     "data": {
      "text/plain": [
       "tensor([4])"
      ]
     },
     "execution_count": 15,
     "metadata": {},
     "output_type": "execute_result"
    }
   ],
   "source": [
    "language_representation('Chinese')"
   ]
  },
  {
   "cell_type": "code",
   "execution_count": 18,
   "metadata": {},
   "outputs": [],
   "source": [
    "name_repr_tensor = name_representation('Alves')"
   ]
  },
  {
   "cell_type": "code",
   "execution_count": 19,
   "metadata": {},
   "outputs": [
    {
     "data": {
      "text/plain": [
       "torch.Size([5, 1, 57])"
      ]
     },
     "execution_count": 19,
     "metadata": {},
     "output_type": "execute_result"
    }
   ],
   "source": [
    "name_repr_tensor.shape"
   ]
  },
  {
   "cell_type": "code",
   "execution_count": 22,
   "metadata": {},
   "outputs": [
    {
     "name": "stdout",
     "output_type": "stream",
     "text": [
      "(NUM_STATES, NUM_LAYERS, NUM_INPUT) --> torch.Size([5, 1, 57])\n"
     ]
    }
   ],
   "source": [
    "# here num states represents no. of states\n",
    "# num_input - dimension of each input i.e each character will be represented in form of (1,num_inputs) vector\n",
    "print(\"(NUM_STATES, NUM_LAYERS, NUM_INPUT) --> {}\".format(name_repr_tensor.shape) )"
   ]
  },
  {
   "cell_type": "markdown",
   "metadata": {},
   "source": [
    "## RNN model"
   ]
  },
  {
   "cell_type": "code",
   "execution_count": 23,
   "metadata": {},
   "outputs": [],
   "source": [
    "# n_hidden represents no. of hidden unit cells to be used for inner product\n",
    "n_hidden = 128"
   ]
  },
  {
   "cell_type": "code",
   "execution_count": 37,
   "metadata": {},
   "outputs": [],
   "source": [
    "class RNN_cell(nn.Module):\n",
    "    \n",
    "    def __init__(self, n_letters, n_hidden, n_output):\n",
    "        '''\n",
    "        n_letters- represents size of one hot encoded representation for each input character\n",
    "        n_hidden- no. of neurons used for hidden state\n",
    "        n_output - represents size of no. of possible target labels for each input word\n",
    "        '''\n",
    "        \n",
    "        super(RNN_cell, self).__init__()\n",
    "        \n",
    "        self.n_hidden = n_hidden\n",
    "        self.n_input = n_letters\n",
    "        self.n_output = n_output                        \n",
    "        self.tanh = nn.Tanh()\n",
    "        self.softmax = nn.LogSoftmax(dim=1)        \n",
    "        self.weight_input = nn.Parameter(torch.randn(self.n_input, self.n_hidden, requires_grad=True))\n",
    "        self.weight_prev_state = nn.Parameter(torch.randn(self.n_hidden, self.n_hidden, requires_grad=True))\n",
    "        self.weight_output = nn.Parameter(torch.randn(self.n_hidden, self.n_output, requires_grad=True))\n",
    "        self.bias_hidden = nn.Parameter(torch.zeros(1, self.n_hidden, requires_grad=True)) \n",
    "        self.bias_output = nn.Parameter(torch.zeros(1, self.n_output, requires_grad=True))\n",
    "        \n",
    "    def forward(self,current_input_, prev_hidden_state):\n",
    "        current_hidden_state = self.tanh(torch.mm(current_input_, self.weight_input) +\n",
    "                                         torch.mm(prev_hidden_state, self.weight_prev_state) + \n",
    "                                         self.bias_hidden)\n",
    "        current_output = self.softmax(torch.mm(current_hidden_state, self.weight_output) + self.bias_output)\n",
    "        \n",
    "        return current_hidden_state, current_output\n",
    "    \n",
    "    def init_hidden(self):\n",
    "        '''\n",
    "        initialize hidden state by zeros \n",
    "        '''\n",
    "        return torch.zeros(1, self.n_hidden)"
   ]
  },
  {
   "cell_type": "code",
   "execution_count": 38,
   "metadata": {},
   "outputs": [],
   "source": [
    "rnn_cell = RNN_cell(n_letters, n_hidden, n_languages)"
   ]
  },
  {
   "cell_type": "code",
   "execution_count": 39,
   "metadata": {},
   "outputs": [],
   "source": [
    "def infer(rnn_cell, name):\n",
    "    \n",
    "    name_repr = name_representation(name)\n",
    "    hidden_state= rnn_cell.init_hidden()\n",
    "    \n",
    "    for state_no in range(name_repr.shape[0]):\n",
    "        hidden_state, output = rnn_cell(name_repr[state_no], hidden_state)\n",
    "    return output"
   ]
  },
  {
   "cell_type": "code",
   "execution_count": 40,
   "metadata": {},
   "outputs": [],
   "source": [
    "output= infer(rnn_cell, \"Adam\")"
   ]
  },
  {
   "cell_type": "code",
   "execution_count": 41,
   "metadata": {},
   "outputs": [
    {
     "name": "stdout",
     "output_type": "stream",
     "text": [
      "tensor([[-7.6164e+00, -9.5276e+00, -2.3133e+01, -1.8498e+01, -1.1208e+01,\n",
      "         -2.6089e+01, -2.2156e+01, -6.8040e+00, -2.4681e+01, -2.1560e+01,\n",
      "         -2.0159e+01, -1.9240e+01, -4.1310e+01, -2.5637e+01, -1.6899e-03,\n",
      "         -2.8989e+01, -1.9138e+01, -2.5385e+01]], grad_fn=<LogSoftmaxBackward>)\n"
     ]
    }
   ],
   "source": [
    "print(output)"
   ]
  },
  {
   "cell_type": "markdown",
   "metadata": {},
   "source": [
    "## training RNN cell on dataset"
   ]
  },
  {
   "cell_type": "code",
   "execution_count": 42,
   "metadata": {},
   "outputs": [],
   "source": [
    "criterion = nn.NLLLoss()\n",
    "opt = optim.SGD(params=rnn_cell.parameters(),lr=0.01, momentum=0.9)"
   ]
  },
  {
   "cell_type": "code",
   "execution_count": 43,
   "metadata": {},
   "outputs": [],
   "source": [
    "def data_loader(num_points, X,y):\n",
    "    res = []\n",
    "    for data_point in range(num_points):\n",
    "        random_pt_index = np.random.randint(len(X))\n",
    "        name = X[random_pt_index]\n",
    "        lang = y[random_pt_index]\n",
    "        res.append((name, lang, name_representation(name), language_representation(lang)))\n",
    "    return res"
   ]
  },
  {
   "cell_type": "code",
   "execution_count": 44,
   "metadata": {},
   "outputs": [
    {
     "data": {
      "text/plain": [
       "1979"
      ]
     },
     "execution_count": 44,
     "metadata": {},
     "output_type": "execute_result"
    }
   ],
   "source": [
    "np.random.randint(len(train_x))"
   ]
  },
  {
   "cell_type": "code",
   "execution_count": 45,
   "metadata": {},
   "outputs": [
    {
     "data": {
      "text/plain": [
       "14035"
      ]
     },
     "execution_count": 45,
     "metadata": {},
     "output_type": "execute_result"
    }
   ],
   "source": [
    "len(train_x)"
   ]
  },
  {
   "cell_type": "code",
   "execution_count": 46,
   "metadata": {},
   "outputs": [],
   "source": [
    "data_points = data_loader(2, train_x, train_y)"
   ]
  },
  {
   "cell_type": "code",
   "execution_count": 47,
   "metadata": {},
   "outputs": [
    {
     "name": "stdout",
     "output_type": "stream",
     "text": [
      "('Baburoff', 'Russian', tensor([[[0., 0., 0., 0., 0., 0., 0., 0., 0., 0., 0., 0., 0., 0., 0., 0., 0.,\n",
      "          0., 0., 0., 0., 0., 0., 0., 0., 0., 0., 1., 0., 0., 0., 0., 0., 0.,\n",
      "          0., 0., 0., 0., 0., 0., 0., 0., 0., 0., 0., 0., 0., 0., 0., 0., 0.,\n",
      "          0., 0., 0., 0., 0., 0.]],\n",
      "\n",
      "        [[1., 0., 0., 0., 0., 0., 0., 0., 0., 0., 0., 0., 0., 0., 0., 0., 0.,\n",
      "          0., 0., 0., 0., 0., 0., 0., 0., 0., 0., 0., 0., 0., 0., 0., 0., 0.,\n",
      "          0., 0., 0., 0., 0., 0., 0., 0., 0., 0., 0., 0., 0., 0., 0., 0., 0.,\n",
      "          0., 0., 0., 0., 0., 0.]],\n",
      "\n",
      "        [[0., 1., 0., 0., 0., 0., 0., 0., 0., 0., 0., 0., 0., 0., 0., 0., 0.,\n",
      "          0., 0., 0., 0., 0., 0., 0., 0., 0., 0., 0., 0., 0., 0., 0., 0., 0.,\n",
      "          0., 0., 0., 0., 0., 0., 0., 0., 0., 0., 0., 0., 0., 0., 0., 0., 0.,\n",
      "          0., 0., 0., 0., 0., 0.]],\n",
      "\n",
      "        [[0., 0., 0., 0., 0., 0., 0., 0., 0., 0., 0., 0., 0., 0., 0., 0., 0.,\n",
      "          0., 0., 0., 1., 0., 0., 0., 0., 0., 0., 0., 0., 0., 0., 0., 0., 0.,\n",
      "          0., 0., 0., 0., 0., 0., 0., 0., 0., 0., 0., 0., 0., 0., 0., 0., 0.,\n",
      "          0., 0., 0., 0., 0., 0.]],\n",
      "\n",
      "        [[0., 0., 0., 0., 0., 0., 0., 0., 0., 0., 0., 0., 0., 0., 0., 0., 0.,\n",
      "          1., 0., 0., 0., 0., 0., 0., 0., 0., 0., 0., 0., 0., 0., 0., 0., 0.,\n",
      "          0., 0., 0., 0., 0., 0., 0., 0., 0., 0., 0., 0., 0., 0., 0., 0., 0.,\n",
      "          0., 0., 0., 0., 0., 0.]],\n",
      "\n",
      "        [[0., 0., 0., 0., 0., 0., 0., 0., 0., 0., 0., 0., 0., 0., 1., 0., 0.,\n",
      "          0., 0., 0., 0., 0., 0., 0., 0., 0., 0., 0., 0., 0., 0., 0., 0., 0.,\n",
      "          0., 0., 0., 0., 0., 0., 0., 0., 0., 0., 0., 0., 0., 0., 0., 0., 0.,\n",
      "          0., 0., 0., 0., 0., 0.]],\n",
      "\n",
      "        [[0., 0., 0., 0., 0., 1., 0., 0., 0., 0., 0., 0., 0., 0., 0., 0., 0.,\n",
      "          0., 0., 0., 0., 0., 0., 0., 0., 0., 0., 0., 0., 0., 0., 0., 0., 0.,\n",
      "          0., 0., 0., 0., 0., 0., 0., 0., 0., 0., 0., 0., 0., 0., 0., 0., 0.,\n",
      "          0., 0., 0., 0., 0., 0.]],\n",
      "\n",
      "        [[0., 0., 0., 0., 0., 1., 0., 0., 0., 0., 0., 0., 0., 0., 0., 0., 0.,\n",
      "          0., 0., 0., 0., 0., 0., 0., 0., 0., 0., 0., 0., 0., 0., 0., 0., 0.,\n",
      "          0., 0., 0., 0., 0., 0., 0., 0., 0., 0., 0., 0., 0., 0., 0., 0., 0.,\n",
      "          0., 0., 0., 0., 0., 0.]]]), tensor([13]))\n"
     ]
    }
   ],
   "source": [
    "print(data_points[0])"
   ]
  },
  {
   "cell_type": "code",
   "execution_count": 48,
   "metadata": {},
   "outputs": [],
   "source": [
    "def train(rnn_cell, criterion, opt, num_points):\n",
    "    '''\n",
    "    train model on batch of num_points\n",
    "    '''\n",
    "    # clear out gradients\n",
    "    opt.zero_grad()\n",
    "    \n",
    "    total_loss = 0\n",
    "    \n",
    "    # get random set of data points\n",
    "    data_points = data_loader(num_points, train_x, train_y)\n",
    "        \n",
    "    for name,lang, name_repr, lang_repr in data_points:\n",
    "    \n",
    "        # initialize hidden state to 0's for first timestep before training\n",
    "        hidden_state= rnn_cell.init_hidden() \n",
    "        \n",
    "        # pass through rnn cell each timestep\n",
    "        for char_index in range(name_repr.shape[0]):\n",
    "            hidden_state, output = rnn_cell(name_repr[char_index], hidden_state)\n",
    "            \n",
    "        # compute current loss\n",
    "        loss = criterion(output, lang_repr)\n",
    "        \n",
    "        # compute gradients\n",
    "        loss.backward(retain_graph=True)\n",
    "        \n",
    "        # add current loss to total loss\n",
    "        total_loss += loss.item()\n",
    "        \n",
    "    # update weights after finishing batch of num points\n",
    "    opt.step()\n",
    "        \n",
    "    return total_loss/num_points"
   ]
  },
  {
   "cell_type": "code",
   "execution_count": 49,
   "metadata": {},
   "outputs": [],
   "source": [
    "def train_setup(rnn_cell, lr_rate, momentum, num_epochs, batch_size,print_every =10):\n",
    "    criterion = nn.NLLLoss()\n",
    "    opt = optim.SGD(rnn_cell.parameters(), lr=lr_rate, momentum=momentum)\n",
    "    \n",
    "    loss_arr = []\n",
    "    for epoch_index in range(num_epochs):\n",
    "        epoch_loss = train(rnn_cell, criterion, opt, batch_size)\n",
    "        loss_arr.append(epoch_loss)   \n",
    "        if epoch_index%print_every== 0:\n",
    "            print(\"epoch index: {}, epoch loss: {}\".format(epoch_index, epoch_loss))        \n",
    "    return loss_arr"
   ]
  },
  {
   "cell_type": "code",
   "execution_count": 52,
   "metadata": {},
   "outputs": [],
   "source": [
    "rnn_cell_2 = RNN_cell(n_letters, n_hidden, n_languages)"
   ]
  },
  {
   "cell_type": "code",
   "execution_count": 53,
   "metadata": {},
   "outputs": [
    {
     "name": "stdout",
     "output_type": "stream",
     "text": [
      "epoch index: 0, epoch loss: 19.717186864465475\n",
      "epoch index: 10, epoch loss: 9.808540154248476\n",
      "epoch index: 20, epoch loss: 5.779265807941556\n",
      "epoch index: 30, epoch loss: 4.15051156654954\n",
      "epoch index: 40, epoch loss: 3.198358668014407\n",
      "epoch index: 50, epoch loss: 3.3471707087010145\n",
      "epoch index: 60, epoch loss: 3.2326170075684786\n",
      "epoch index: 70, epoch loss: 3.0871928837150335\n",
      "epoch index: 80, epoch loss: 2.2448078840970993\n",
      "epoch index: 90, epoch loss: 2.2541529666632414\n",
      "epoch index: 100, epoch loss: 1.988947406411171\n",
      "epoch index: 110, epoch loss: 2.063618279993534\n",
      "epoch index: 120, epoch loss: 1.7276676641777158\n",
      "epoch index: 130, epoch loss: 1.9146670456975698\n",
      "epoch index: 140, epoch loss: 1.8798471614718437\n",
      "epoch index: 150, epoch loss: 2.1580424699932337\n",
      "epoch index: 160, epoch loss: 1.7821610560640693\n",
      "epoch index: 170, epoch loss: 1.8925732290372252\n",
      "epoch index: 180, epoch loss: 2.184511254541576\n",
      "epoch index: 190, epoch loss: 1.9318648483604193\n",
      "epoch index: 200, epoch loss: 1.8528140066191554\n",
      "epoch index: 210, epoch loss: 1.89699596632272\n",
      "epoch index: 220, epoch loss: 1.9577901000156999\n",
      "epoch index: 230, epoch loss: 2.094320857897401\n",
      "epoch index: 240, epoch loss: 1.9755832059308887\n",
      "epoch index: 250, epoch loss: 1.8265700042247772\n",
      "epoch index: 260, epoch loss: 1.853227718733251\n",
      "epoch index: 270, epoch loss: 1.9826086116954684\n",
      "epoch index: 280, epoch loss: 1.817340835928917\n",
      "epoch index: 290, epoch loss: 1.7773691434413195\n",
      "epoch index: 300, epoch loss: 1.8767298432067037\n",
      "epoch index: 310, epoch loss: 1.6932670176029205\n",
      "epoch index: 320, epoch loss: 1.9966006176546216\n",
      "epoch index: 330, epoch loss: 1.9256588909775019\n",
      "epoch index: 340, epoch loss: 1.8816275587305427\n",
      "epoch index: 350, epoch loss: 1.8110205791890621\n",
      "epoch index: 360, epoch loss: 1.9005425889045\n",
      "epoch index: 370, epoch loss: 2.0445635626092553\n",
      "epoch index: 380, epoch loss: 1.9602336436510086\n",
      "epoch index: 390, epoch loss: 1.8440056927502155\n",
      "epoch index: 400, epoch loss: 1.8008302943781018\n",
      "epoch index: 410, epoch loss: 1.86864731926471\n",
      "epoch index: 420, epoch loss: 1.8777103330940008\n",
      "epoch index: 430, epoch loss: 1.702499066479504\n",
      "epoch index: 440, epoch loss: 1.9128245022147894\n",
      "epoch index: 450, epoch loss: 1.881857248954475\n",
      "epoch index: 460, epoch loss: 1.750562152825296\n",
      "epoch index: 470, epoch loss: 1.7482223873957992\n",
      "epoch index: 480, epoch loss: 1.7874938240274787\n",
      "epoch index: 490, epoch loss: 1.8748935367912054\n"
     ]
    }
   ],
   "source": [
    "loss_arr = train_setup(rnn_cell_2, lr_rate=0.0001, momentum=0.9, num_epochs=500, batch_size=256)"
   ]
  },
  {
   "cell_type": "code",
   "execution_count": 54,
   "metadata": {},
   "outputs": [
    {
     "data": {
      "image/png": "[encoded data removed]",
      "text/plain": [
       "<Figure size 432x288 with 1 Axes>"
      ]
     },
     "metadata": {
      "needs_background": "light"
     },
     "output_type": "display_data"
    }
   ],
   "source": [
    "plt.plot(range(len(loss_arr)), loss_arr)\n",
    "plt.xlabel('epochs')\n",
    "plt.ylabel('loss')\n",
    "plt.title('loss hist')\n",
    "plt.show()"
   ]
  }
 ],
 "metadata": {
  "kernelspec": {
   "display_name": "Python 3",
   "language": "python",
   "name": "python3"
  },
  "language_info": {
   "codemirror_mode": {
    "name": "ipython",
    "version": 3
   },
   "file_extension": ".py",
   "mimetype": "text/x-python",
   "name": "python",
   "nbconvert_exporter": "python",
   "pygments_lexer": "ipython3",
   "version": "3.5.6"
  }
 },
 "nbformat": 4,
 "nbformat_minor": 2
}
